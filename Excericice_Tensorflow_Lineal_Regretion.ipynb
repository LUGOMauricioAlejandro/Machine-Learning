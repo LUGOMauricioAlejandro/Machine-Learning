{
 "cells": [
  {
   "cell_type": "markdown",
   "id": "e6cfb2ca",
   "metadata": {},
   "source": [
    "$\\huge{Modelo \\ simple \\ con \\ Tensorflow}$"
   ]
  },
  {
   "cell_type": "code",
   "execution_count": 156,
   "id": "1b41f84b",
   "metadata": {},
   "outputs": [
    {
     "name": "stdout",
     "output_type": "stream",
     "text": [
      "    MIN  BAT\n",
      "0     0    5\n",
      "1     4   10\n",
      "2     8   14\n",
      "3    12   19\n",
      "4    16   24\n",
      "5    20   28\n",
      "6    24   33\n",
      "7    28   38\n",
      "8    32   42\n",
      "9    36   47\n",
      "10   40   52\n",
      "11   44   56\n",
      "12   48   61\n",
      "Index(['MIN', 'BAT'], dtype='object')\n"
     ]
    }
   ],
   "source": [
    "import pandas as pd\n",
    "import keras \n",
    "import keras.backend as kb\n",
    "import tensorflow as tf\n",
    "import matplotlib.pyplot as plt\n",
    "\n",
    "print(df)\n",
    "print(df.columns)\n"
   ]
  },
  {
   "cell_type": "markdown",
   "id": "c015a71c",
   "metadata": {},
   "source": [
    "$\\huge{Variables \\ del \\ Modelo}$"
   ]
  },
  {
   "cell_type": "code",
   "execution_count": 157,
   "id": "63ffa007",
   "metadata": {},
   "outputs": [],
   "source": [
    "x1 = df['MIN']\n",
    "y1 = df['BAT']"
   ]
  },
  {
   "cell_type": "markdown",
   "id": "0f7ec4b4",
   "metadata": {},
   "source": [
    "$\\huge{Regresión \\ Lineal \\ Modelo \\ Red \\ Neuronal}$"
   ]
  },
  {
   "cell_type": "code",
   "execution_count": 180,
   "id": "14f9f8b0",
   "metadata": {},
   "outputs": [],
   "source": [
    "model = keras.Sequential([keras.layers.Dense(32, activation=tf.nn.relu, input_shape=[1]),\n",
    "                          keras.layers.Dense(32, activation=tf.nn.relu),\n",
    "                          keras.layers.Dense(32, activation=tf.nn.relu),\n",
    "                          keras.layers.Dense(1)                             #capa de salida\n",
    "                          ])\n",
    "optimizer = tf.keras.optimizers.Adam(learning_rate=0.0015)\n",
    "\n",
    "model.compile(loss='mean_absolute_error',  #función de pérdida error absoluto\n",
    "              optimizer = optimizer,\n",
    "              metrics=['mean_absolute_error', 'mean_squared_error'])"
   ]
  },
  {
   "cell_type": "markdown",
   "id": "b555ff22",
   "metadata": {},
   "source": [
    "$\\huge{Entrenamiento \\ del \\ Modelo}$"
   ]
  },
  {
   "cell_type": "code",
   "execution_count": 190,
   "id": "08f1e01d",
   "metadata": {},
   "outputs": [
    {
     "name": "stdout",
     "output_type": "stream",
     "text": [
      "Epoch 1/100\n",
      "1/1 [==============================] - 0s 12ms/step - loss: 0.2471 - mean_absolute_error: 0.2471 - mean_squared_error: 0.0846\n",
      "Epoch 2/100\n",
      "1/1 [==============================] - 0s 11ms/step - loss: 0.2344 - mean_absolute_error: 0.2344 - mean_squared_error: 0.0769\n",
      "Epoch 3/100\n",
      "1/1 [==============================] - 0s 51ms/step - loss: 0.2529 - mean_absolute_error: 0.2529 - mean_squared_error: 0.0987\n",
      "Epoch 4/100\n",
      "1/1 [==============================] - 0s 29ms/step - loss: 0.2824 - mean_absolute_error: 0.2824 - mean_squared_error: 0.1223\n",
      "Epoch 5/100\n",
      "1/1 [==============================] - 0s 32ms/step - loss: 0.2183 - mean_absolute_error: 0.2183 - mean_squared_error: 0.0706\n",
      "Epoch 6/100\n",
      "1/1 [==============================] - 0s 39ms/step - loss: 0.2247 - mean_absolute_error: 0.2247 - mean_squared_error: 0.0727\n",
      "Epoch 7/100\n",
      "1/1 [==============================] - 0s 9ms/step - loss: 0.2465 - mean_absolute_error: 0.2465 - mean_squared_error: 0.0922\n",
      "Epoch 8/100\n",
      "1/1 [==============================] - 0s 10ms/step - loss: 0.2509 - mean_absolute_error: 0.2509 - mean_squared_error: 0.0975\n",
      "Epoch 9/100\n",
      "1/1 [==============================] - 0s 52ms/step - loss: 0.2160 - mean_absolute_error: 0.2160 - mean_squared_error: 0.0681\n",
      "Epoch 10/100\n",
      "1/1 [==============================] - 0s 35ms/step - loss: 0.2759 - mean_absolute_error: 0.2759 - mean_squared_error: 0.1099\n",
      "Epoch 11/100\n",
      "1/1 [==============================] - 0s 18ms/step - loss: 0.2550 - mean_absolute_error: 0.2550 - mean_squared_error: 0.0902\n",
      "Epoch 12/100\n",
      "1/1 [==============================] - 0s 26ms/step - loss: 0.2428 - mean_absolute_error: 0.2428 - mean_squared_error: 0.0881\n",
      "Epoch 13/100\n",
      "1/1 [==============================] - 0s 21ms/step - loss: 0.2993 - mean_absolute_error: 0.2993 - mean_squared_error: 0.1390\n",
      "Epoch 14/100\n",
      "1/1 [==============================] - 0s 30ms/step - loss: 0.2217 - mean_absolute_error: 0.2217 - mean_squared_error: 0.0700\n",
      "Epoch 15/100\n",
      "1/1 [==============================] - 0s 8ms/step - loss: 0.3141 - mean_absolute_error: 0.3141 - mean_squared_error: 0.1543\n",
      "Epoch 16/100\n",
      "1/1 [==============================] - 0s 20ms/step - loss: 0.2805 - mean_absolute_error: 0.2805 - mean_squared_error: 0.1156\n",
      "Epoch 17/100\n",
      "1/1 [==============================] - 0s 27ms/step - loss: 0.2313 - mean_absolute_error: 0.2313 - mean_squared_error: 0.0758\n",
      "Epoch 18/100\n",
      "1/1 [==============================] - 0s 25ms/step - loss: 0.2779 - mean_absolute_error: 0.2779 - mean_squared_error: 0.1181\n",
      "Epoch 19/100\n",
      "1/1 [==============================] - 0s 23ms/step - loss: 0.2157 - mean_absolute_error: 0.2157 - mean_squared_error: 0.0680\n",
      "Epoch 20/100\n",
      "1/1 [==============================] - 0s 6ms/step - loss: 0.2864 - mean_absolute_error: 0.2864 - mean_squared_error: 0.1231\n",
      "Epoch 21/100\n",
      "1/1 [==============================] - 0s 34ms/step - loss: 0.2802 - mean_absolute_error: 0.2802 - mean_squared_error: 0.1157\n",
      "Epoch 22/100\n",
      "1/1 [==============================] - 0s 47ms/step - loss: 0.2197 - mean_absolute_error: 0.2197 - mean_squared_error: 0.0690\n",
      "Epoch 23/100\n",
      "1/1 [==============================] - 0s 9ms/step - loss: 0.2390 - mean_absolute_error: 0.2390 - mean_squared_error: 0.0827\n",
      "Epoch 24/100\n",
      "1/1 [==============================] - 0s 15ms/step - loss: 0.2257 - mean_absolute_error: 0.2257 - mean_squared_error: 0.0715\n",
      "Epoch 25/100\n",
      "1/1 [==============================] - 0s 44ms/step - loss: 0.2484 - mean_absolute_error: 0.2484 - mean_squared_error: 0.0854\n",
      "Epoch 26/100\n",
      "1/1 [==============================] - 0s 25ms/step - loss: 0.2272 - mean_absolute_error: 0.2272 - mean_squared_error: 0.0734\n",
      "Epoch 27/100\n",
      "1/1 [==============================] - 0s 21ms/step - loss: 0.2707 - mean_absolute_error: 0.2707 - mean_squared_error: 0.1116\n",
      "Epoch 28/100\n",
      "1/1 [==============================] - 0s 11ms/step - loss: 0.2410 - mean_absolute_error: 0.2410 - mean_squared_error: 0.0851\n",
      "Epoch 29/100\n",
      "1/1 [==============================] - 0s 18ms/step - loss: 0.2278 - mean_absolute_error: 0.2278 - mean_squared_error: 0.0739\n",
      "Epoch 30/100\n",
      "1/1 [==============================] - 0s 20ms/step - loss: 0.2134 - mean_absolute_error: 0.2134 - mean_squared_error: 0.0687\n",
      "Epoch 31/100\n",
      "1/1 [==============================] - 0s 22ms/step - loss: 0.2301 - mean_absolute_error: 0.2301 - mean_squared_error: 0.0748\n",
      "Epoch 32/100\n",
      "1/1 [==============================] - 0s 30ms/step - loss: 0.2216 - mean_absolute_error: 0.2216 - mean_squared_error: 0.0700\n",
      "Epoch 33/100\n",
      "1/1 [==============================] - 0s 6ms/step - loss: 0.2475 - mean_absolute_error: 0.2475 - mean_squared_error: 0.0848\n",
      "Epoch 34/100\n",
      "1/1 [==============================] - 0s 9ms/step - loss: 0.2173 - mean_absolute_error: 0.2173 - mean_squared_error: 0.0704\n",
      "Epoch 35/100\n",
      "1/1 [==============================] - 0s 28ms/step - loss: 0.2971 - mean_absolute_error: 0.2971 - mean_squared_error: 0.1365\n",
      "Epoch 36/100\n",
      "1/1 [==============================] - 0s 8ms/step - loss: 0.2684 - mean_absolute_error: 0.2684 - mean_squared_error: 0.1111\n",
      "Epoch 37/100\n",
      "1/1 [==============================] - 0s 7ms/step - loss: 0.2646 - mean_absolute_error: 0.2646 - mean_squared_error: 0.0985\n",
      "Epoch 38/100\n",
      "1/1 [==============================] - 0s 8ms/step - loss: 0.3071 - mean_absolute_error: 0.3071 - mean_squared_error: 0.1473\n",
      "Epoch 39/100\n",
      "1/1 [==============================] - 0s 21ms/step - loss: 0.2158 - mean_absolute_error: 0.2158 - mean_squared_error: 0.0681\n",
      "Epoch 40/100\n",
      "1/1 [==============================] - 0s 19ms/step - loss: 0.2629 - mean_absolute_error: 0.2629 - mean_squared_error: 0.1070\n",
      "Epoch 41/100\n",
      "1/1 [==============================] - 0s 17ms/step - loss: 0.2224 - mean_absolute_error: 0.2224 - mean_squared_error: 0.0702\n",
      "Epoch 42/100\n",
      "1/1 [==============================] - 0s 8ms/step - loss: 0.2834 - mean_absolute_error: 0.2834 - mean_squared_error: 0.1187\n",
      "Epoch 43/100\n",
      "1/1 [==============================] - 0s 23ms/step - loss: 0.2858 - mean_absolute_error: 0.2858 - mean_squared_error: 0.1217\n",
      "Epoch 44/100\n",
      "1/1 [==============================] - 0s 62ms/step - loss: 0.2147 - mean_absolute_error: 0.2147 - mean_squared_error: 0.0679\n",
      "Epoch 45/100\n",
      "1/1 [==============================] - 0s 63ms/step - loss: 0.2475 - mean_absolute_error: 0.2475 - mean_squared_error: 0.0921\n",
      "Epoch 46/100\n",
      "1/1 [==============================] - 0s 40ms/step - loss: 0.2371 - mean_absolute_error: 0.2371 - mean_squared_error: 0.0809\n",
      "Epoch 47/100\n",
      "1/1 [==============================] - 0s 38ms/step - loss: 0.2217 - mean_absolute_error: 0.2217 - mean_squared_error: 0.0715\n",
      "Epoch 48/100\n",
      "1/1 [==============================] - 0s 29ms/step - loss: 0.2154 - mean_absolute_error: 0.2154 - mean_squared_error: 0.0679\n",
      "Epoch 49/100\n",
      "1/1 [==============================] - 0s 5ms/step - loss: 0.2167 - mean_absolute_error: 0.2167 - mean_squared_error: 0.0682\n",
      "Epoch 50/100\n",
      "1/1 [==============================] - 0s 41ms/step - loss: 0.2388 - mean_absolute_error: 0.2388 - mean_squared_error: 0.0794\n",
      "Epoch 51/100\n",
      "1/1 [==============================] - 0s 6ms/step - loss: 0.2149 - mean_absolute_error: 0.2149 - mean_squared_error: 0.0678\n",
      "Epoch 52/100\n",
      "1/1 [==============================] - 0s 45ms/step - loss: 0.2238 - mean_absolute_error: 0.2238 - mean_squared_error: 0.0708\n",
      "Epoch 53/100\n",
      "1/1 [==============================] - 0s 11ms/step - loss: 0.2146 - mean_absolute_error: 0.2146 - mean_squared_error: 0.0695\n",
      "Epoch 54/100\n",
      "1/1 [==============================] - 0s 40ms/step - loss: 0.2209 - mean_absolute_error: 0.2209 - mean_squared_error: 0.0713\n",
      "Epoch 55/100\n",
      "1/1 [==============================] - 0s 8ms/step - loss: 0.2490 - mean_absolute_error: 0.2490 - mean_squared_error: 0.0938\n",
      "Epoch 56/100\n",
      "1/1 [==============================] - 0s 17ms/step - loss: 0.2531 - mean_absolute_error: 0.2531 - mean_squared_error: 0.0989\n",
      "Epoch 57/100\n",
      "1/1 [==============================] - 0s 32ms/step - loss: 0.2156 - mean_absolute_error: 0.2156 - mean_squared_error: 0.0680\n",
      "Epoch 58/100\n",
      "1/1 [==============================] - 0s 42ms/step - loss: 0.2728 - mean_absolute_error: 0.2728 - mean_squared_error: 0.1067\n",
      "Epoch 59/100\n",
      "1/1 [==============================] - 0s 9ms/step - loss: 0.2525 - mean_absolute_error: 0.2525 - mean_squared_error: 0.0882\n",
      "Epoch 60/100\n"
     ]
    },
    {
     "name": "stdout",
     "output_type": "stream",
     "text": [
      "1/1 [==============================] - 0s 30ms/step - loss: 0.2429 - mean_absolute_error: 0.2429 - mean_squared_error: 0.0885\n",
      "Epoch 61/100\n",
      "1/1 [==============================] - 0s 25ms/step - loss: 0.2734 - mean_absolute_error: 0.2734 - mean_squared_error: 0.1151\n",
      "Epoch 62/100\n",
      "1/1 [==============================] - 0s 15ms/step - loss: 0.2177 - mean_absolute_error: 0.2177 - mean_squared_error: 0.0704\n",
      "Epoch 63/100\n",
      "1/1 [==============================] - 0s 7ms/step - loss: 0.2190 - mean_absolute_error: 0.2190 - mean_squared_error: 0.0708\n",
      "Epoch 64/100\n",
      "1/1 [==============================] - 0s 18ms/step - loss: 0.2544 - mean_absolute_error: 0.2544 - mean_squared_error: 0.1009\n",
      "Epoch 65/100\n",
      "1/1 [==============================] - 0s 8ms/step - loss: 0.2264 - mean_absolute_error: 0.2264 - mean_squared_error: 0.0722\n",
      "Epoch 66/100\n",
      "1/1 [==============================] - 0s 16ms/step - loss: 0.2647 - mean_absolute_error: 0.2647 - mean_squared_error: 0.0985\n",
      "Epoch 67/100\n",
      "1/1 [==============================] - 0s 17ms/step - loss: 0.2566 - mean_absolute_error: 0.2566 - mean_squared_error: 0.0915\n",
      "Epoch 68/100\n",
      "1/1 [==============================] - 0s 19ms/step - loss: 0.2338 - mean_absolute_error: 0.2338 - mean_squared_error: 0.0782\n",
      "Epoch 69/100\n",
      "1/1 [==============================] - 0s 23ms/step - loss: 0.2609 - mean_absolute_error: 0.2609 - mean_squared_error: 0.1048\n",
      "Epoch 70/100\n",
      "1/1 [==============================] - 0s 18ms/step - loss: 0.2200 - mean_absolute_error: 0.2200 - mean_squared_error: 0.0710\n",
      "Epoch 71/100\n",
      "1/1 [==============================] - 0s 22ms/step - loss: 0.2158 - mean_absolute_error: 0.2158 - mean_squared_error: 0.0699\n",
      "Epoch 72/100\n",
      "1/1 [==============================] - 0s 24ms/step - loss: 0.2648 - mean_absolute_error: 0.2648 - mean_squared_error: 0.1073\n",
      "Epoch 73/100\n",
      "1/1 [==============================] - 0s 20ms/step - loss: 0.2314 - mean_absolute_error: 0.2314 - mean_squared_error: 0.0757\n",
      "Epoch 74/100\n",
      "1/1 [==============================] - 0s 28ms/step - loss: 0.2537 - mean_absolute_error: 0.2537 - mean_squared_error: 0.0895\n",
      "Epoch 75/100\n",
      "1/1 [==============================] - ETA: 0s - loss: 0.2455 - mean_absolute_error: 0.2455 - mean_squared_error: 0.08 - 0s 22ms/step - loss: 0.2455 - mean_absolute_error: 0.2455 - mean_squared_error: 0.0836\n",
      "Epoch 76/100\n",
      "1/1 [==============================] - 0s 9ms/step - loss: 0.2405 - mean_absolute_error: 0.2405 - mean_squared_error: 0.0840\n",
      "Epoch 77/100\n",
      "1/1 [==============================] - 0s 11ms/step - loss: 0.2541 - mean_absolute_error: 0.2541 - mean_squared_error: 0.0982\n",
      "Epoch 78/100\n",
      "1/1 [==============================] - 0s 15ms/step - loss: 0.2197 - mean_absolute_error: 0.2197 - mean_squared_error: 0.0690\n",
      "Epoch 79/100\n",
      "1/1 [==============================] - 0s 10ms/step - loss: 0.2838 - mean_absolute_error: 0.2838 - mean_squared_error: 0.1198\n",
      "Epoch 80/100\n",
      "1/1 [==============================] - 0s 9ms/step - loss: 0.2847 - mean_absolute_error: 0.2847 - mean_squared_error: 0.1209\n",
      "Epoch 81/100\n",
      "1/1 [==============================] - 0s 31ms/step - loss: 0.2145 - mean_absolute_error: 0.2145 - mean_squared_error: 0.0678\n",
      "Epoch 82/100\n",
      "1/1 [==============================] - 0s 16ms/step - loss: 0.2485 - mean_absolute_error: 0.2485 - mean_squared_error: 0.0925\n",
      "Epoch 83/100\n",
      "1/1 [==============================] - 0s 22ms/step - loss: 0.2371 - mean_absolute_error: 0.2371 - mean_squared_error: 0.0810\n",
      "Epoch 84/100\n",
      "1/1 [==============================] - 0s 15ms/step - loss: 0.2215 - mean_absolute_error: 0.2215 - mean_squared_error: 0.0715\n",
      "Epoch 85/100\n",
      "1/1 [==============================] - 0s 21ms/step - loss: 0.2156 - mean_absolute_error: 0.2156 - mean_squared_error: 0.0681\n",
      "Epoch 86/100\n",
      "1/1 [==============================] - 0s 21ms/step - loss: 0.2181 - mean_absolute_error: 0.2181 - mean_squared_error: 0.0687\n",
      "Epoch 87/100\n",
      "1/1 [==============================] - 0s 14ms/step - loss: 0.2349 - mean_absolute_error: 0.2349 - mean_squared_error: 0.0771\n",
      "Epoch 88/100\n",
      "1/1 [==============================] - 0s 16ms/step - loss: 0.2174 - mean_absolute_error: 0.2174 - mean_squared_error: 0.0685\n",
      "Epoch 89/100\n",
      "1/1 [==============================] - 0s 16ms/step - loss: 0.2146 - mean_absolute_error: 0.2146 - mean_squared_error: 0.0679\n",
      "Epoch 90/100\n",
      "1/1 [==============================] - 0s 13ms/step - loss: 0.2242 - mean_absolute_error: 0.2242 - mean_squared_error: 0.0724\n",
      "Epoch 91/100\n",
      "1/1 [==============================] - 0s 14ms/step - loss: 0.2345 - mean_absolute_error: 0.2345 - mean_squared_error: 0.0784\n",
      "Epoch 92/100\n",
      "1/1 [==============================] - 0s 15ms/step - loss: 0.2382 - mean_absolute_error: 0.2382 - mean_squared_error: 0.0820\n",
      "Epoch 93/100\n",
      "1/1 [==============================] - 0s 6ms/step - loss: 0.2139 - mean_absolute_error: 0.2139 - mean_squared_error: 0.0677\n",
      "Epoch 94/100\n",
      "1/1 [==============================] - 0s 9ms/step - loss: 0.2619 - mean_absolute_error: 0.2619 - mean_squared_error: 0.0966\n",
      "Epoch 95/100\n",
      "1/1 [==============================] - 0s 8ms/step - loss: 0.2324 - mean_absolute_error: 0.2324 - mean_squared_error: 0.0756\n",
      "Epoch 96/100\n",
      "1/1 [==============================] - 0s 22ms/step - loss: 0.2729 - mean_absolute_error: 0.2729 - mean_squared_error: 0.1131\n",
      "Epoch 97/100\n",
      "1/1 [==============================] - 0s 9ms/step - loss: 0.2486 - mean_absolute_error: 0.2486 - mean_squared_error: 0.0918\n",
      "Epoch 98/100\n",
      "1/1 [==============================] - 0s 28ms/step - loss: 0.2280 - mean_absolute_error: 0.2280 - mean_squared_error: 0.0739\n",
      "Epoch 99/100\n",
      "1/1 [==============================] - 0s 22ms/step - loss: 0.2210 - mean_absolute_error: 0.2210 - mean_squared_error: 0.0713\n",
      "Epoch 100/100\n",
      "1/1 [==============================] - 0s 7ms/step - loss: 0.2607 - mean_absolute_error: 0.2607 - mean_squared_error: 0.1046\n"
     ]
    },
    {
     "data": {
      "text/plain": [
       "<tensorflow.python.keras.callbacks.History at 0x7fc720129f70>"
      ]
     },
     "execution_count": 190,
     "metadata": {},
     "output_type": "execute_result"
    }
   ],
   "source": [
    "model.fit(x,y, epochs=100)"
   ]
  },
  {
   "cell_type": "markdown",
   "id": "4b877800",
   "metadata": {},
   "source": [
    "$\\huge{Predicción \\ del \\ Modelo}$"
   ]
  },
  {
   "cell_type": "code",
   "execution_count": 191,
   "id": "501de188",
   "metadata": {},
   "outputs": [
    {
     "data": {
      "text/plain": [
       "array([[60.778538]], dtype=float32)"
      ]
     },
     "execution_count": 191,
     "metadata": {},
     "output_type": "execute_result"
    }
   ],
   "source": [
    "model.predict([48])"
   ]
  },
  {
   "cell_type": "code",
   "execution_count": 192,
   "id": "fa41c0f1",
   "metadata": {},
   "outputs": [
    {
     "name": "stdout",
     "output_type": "stream",
     "text": [
      "[[ 4.999299]\n",
      " [ 9.743184]\n",
      " [14.382761]\n",
      " [19.022337]\n",
      " [23.661917]\n",
      " [28.301495]\n",
      " [32.941074]\n",
      " [37.580654]\n",
      " [42.220226]\n",
      " [46.859806]\n",
      " [51.499386]\n",
      " [56.13896 ]\n",
      " [60.778538]]\n"
     ]
    }
   ],
   "source": [
    "print( model.predict(x))"
   ]
  },
  {
   "cell_type": "markdown",
   "id": "608b2a23",
   "metadata": {},
   "source": [
    "$\\huge{Análisis \\ Gráfico}$"
   ]
  },
  {
   "cell_type": "code",
   "execution_count": 193,
   "id": "9210f72c",
   "metadata": {},
   "outputs": [
    {
     "data": {
      "text/plain": [
       "[<matplotlib.lines.Line2D at 0x7fc720129af0>,\n",
       " <matplotlib.lines.Line2D at 0x7fc720129b80>]"
      ]
     },
     "execution_count": 193,
     "metadata": {},
     "output_type": "execute_result"
    },
    {
     "data": {
      "image/png": "[encoded data removed]",
      "text/plain": [
       "<Figure size 432x288 with 1 Axes>"
      ]
     },
     "metadata": {
      "needs_background": "light"
     },
     "output_type": "display_data"
    }
   ],
   "source": [
    "plt.plot(y, model.predict(x), '-*', x,y, '-.')"
   ]
  },
  {
   "cell_type": "code",
   "execution_count": null,
   "id": "372f9633",
   "metadata": {},
   "outputs": [],
   "source": []
  }
 ],
 "metadata": {
  "kernelspec": {
   "display_name": "Python 3 (ipykernel)",
   "language": "python",
   "name": "python3"
  },
  "language_info": {
   "codemirror_mode": {
    "name": "ipython",
    "version": 3
   },
   "file_extension": ".py",
   "mimetype": "text/x-python",
   "name": "python",
   "nbconvert_exporter": "python",
   "pygments_lexer": "ipython3",
   "version": "3.9.7"
  }
 },
 "nbformat": 4,
 "nbformat_minor": 5
}
