{
 "cells": [
  {
   "cell_type": "code",
   "execution_count": 221,
   "id": "11d79933",
   "metadata": {},
   "outputs": [],
   "source": [
    "import torch\n",
    "import torch.nn as nn \n",
    "import pandas as pd\n",
    "import numpy as np\n",
    "import matplotlib.pyplot as plt\n",
    "from sklearn.preprocessing import MinMaxScaler"
   ]
  },
  {
   "cell_type": "code",
   "execution_count": 222,
   "id": "7e95cf5b",
   "metadata": {},
   "outputs": [],
   "source": [
    "pd.set_option('display.max_rows', 10)\n",
    "\n"
   ]
  },
  {
   "cell_type": "code",
   "execution_count": 191,
   "id": "436c0f54",
   "metadata": {},
   "outputs": [
    {
     "name": "stdout",
     "output_type": "stream",
     "text": [
      "    MIN  BAT\n",
      "0     0    5\n",
      "1     4   10\n",
      "2     8   14\n",
      "3    12   19\n",
      "4    16   24\n",
      "..  ...  ...\n",
      "8    32   42\n",
      "9    36   47\n",
      "10   40   52\n",
      "11   44   56\n",
      "12   48   61\n",
      "\n",
      "[13 rows x 2 columns]\n"
     ]
    }
   ],
   "source": [
    "print(dataset)\n"
   ]
  },
  {
   "cell_type": "code",
   "execution_count": 223,
   "id": "03c0f936",
   "metadata": {},
   "outputs": [],
   "source": [
    "X_train = df.iloc[:,0].values\n",
    "y_train = df.iloc[:,-1].values"
   ]
  },
  {
   "cell_type": "code",
   "execution_count": 224,
   "id": "7f9562cc",
   "metadata": {},
   "outputs": [
    {
     "data": {
      "text/html": [
       "<div>\n",
       "<style scoped>\n",
       "    .dataframe tbody tr th:only-of-type {\n",
       "        vertical-align: middle;\n",
       "    }\n",
       "\n",
       "    .dataframe tbody tr th {\n",
       "        vertical-align: top;\n",
       "    }\n",
       "\n",
       "    .dataframe thead th {\n",
       "        text-align: right;\n",
       "    }\n",
       "</style>\n",
       "<table border=\"1\" class=\"dataframe\">\n",
       "  <thead>\n",
       "    <tr style=\"text-align: right;\">\n",
       "      <th></th>\n",
       "      <th>MIN</th>\n",
       "      <th>BAT</th>\n",
       "    </tr>\n",
       "  </thead>\n",
       "  <tbody>\n",
       "    <tr>\n",
       "      <th>0</th>\n",
       "      <td>0</td>\n",
       "      <td>5</td>\n",
       "    </tr>\n",
       "    <tr>\n",
       "      <th>1</th>\n",
       "      <td>4</td>\n",
       "      <td>10</td>\n",
       "    </tr>\n",
       "    <tr>\n",
       "      <th>2</th>\n",
       "      <td>8</td>\n",
       "      <td>14</td>\n",
       "    </tr>\n",
       "    <tr>\n",
       "      <th>3</th>\n",
       "      <td>12</td>\n",
       "      <td>19</td>\n",
       "    </tr>\n",
       "    <tr>\n",
       "      <th>4</th>\n",
       "      <td>16</td>\n",
       "      <td>24</td>\n",
       "    </tr>\n",
       "    <tr>\n",
       "      <th>...</th>\n",
       "      <td>...</td>\n",
       "      <td>...</td>\n",
       "    </tr>\n",
       "    <tr>\n",
       "      <th>8</th>\n",
       "      <td>32</td>\n",
       "      <td>42</td>\n",
       "    </tr>\n",
       "    <tr>\n",
       "      <th>9</th>\n",
       "      <td>36</td>\n",
       "      <td>47</td>\n",
       "    </tr>\n",
       "    <tr>\n",
       "      <th>10</th>\n",
       "      <td>40</td>\n",
       "      <td>52</td>\n",
       "    </tr>\n",
       "    <tr>\n",
       "      <th>11</th>\n",
       "      <td>44</td>\n",
       "      <td>56</td>\n",
       "    </tr>\n",
       "    <tr>\n",
       "      <th>12</th>\n",
       "      <td>48</td>\n",
       "      <td>61</td>\n",
       "    </tr>\n",
       "  </tbody>\n",
       "</table>\n",
       "<p>13 rows × 2 columns</p>\n",
       "</div>"
      ],
      "text/plain": [
       "    MIN  BAT\n",
       "0     0    5\n",
       "1     4   10\n",
       "2     8   14\n",
       "3    12   19\n",
       "4    16   24\n",
       "..  ...  ...\n",
       "8    32   42\n",
       "9    36   47\n",
       "10   40   52\n",
       "11   44   56\n",
       "12   48   61\n",
       "\n",
       "[13 rows x 2 columns]"
      ]
     },
     "execution_count": 224,
     "metadata": {},
     "output_type": "execute_result"
    }
   ],
   "source": [
    "df.head(13)"
   ]
  },
  {
   "cell_type": "code",
   "execution_count": 225,
   "id": "ffbf4f96",
   "metadata": {},
   "outputs": [],
   "source": [
    "#sns.scatterplot(df['MIN'], df['BAT'])"
   ]
  },
  {
   "cell_type": "code",
   "execution_count": 226,
   "id": "ed4ce747",
   "metadata": {},
   "outputs": [
    {
     "name": "stdout",
     "output_type": "stream",
     "text": [
      "<class 'pandas.core.frame.DataFrame'>\n",
      "RangeIndex: 13 entries, 0 to 12\n",
      "Data columns (total 2 columns):\n",
      " #   Column  Non-Null Count  Dtype\n",
      "---  ------  --------------  -----\n",
      " 0   MIN     13 non-null     int64\n",
      " 1   BAT     13 non-null     int64\n",
      "dtypes: int64(2)\n",
      "memory usage: 336.0 bytes\n"
     ]
    }
   ],
   "source": [
    "df.info()"
   ]
  },
  {
   "cell_type": "code",
   "execution_count": 227,
   "id": "55cf5114",
   "metadata": {},
   "outputs": [],
   "source": [
    "sc = MinMaxScaler()\n",
    "sct = MinMaxScaler()\n",
    "X_train=sc.fit_transform(X_train.reshape(-1,1))\n",
    "y_train =sct.fit_transform(y_train.reshape(-1,1))"
   ]
  },
  {
   "cell_type": "code",
   "execution_count": 228,
   "id": "92311fb9",
   "metadata": {},
   "outputs": [],
   "source": [
    "X_train = torch.from_numpy(X_train.astype(np.float32)).view(-1,1)\n",
    "y_train = torch.from_numpy(y_train.astype(np.float32)).view(-1,1)"
   ]
  },
  {
   "cell_type": "code",
   "execution_count": 229,
   "id": "4819e20d",
   "metadata": {},
   "outputs": [],
   "source": [
    "input_size = 1\n",
    "output_size = 1"
   ]
  },
  {
   "cell_type": "code",
   "execution_count": 250,
   "id": "002cfa89",
   "metadata": {},
   "outputs": [],
   "source": [
    "class LinearRegressionModel(torch.nn.Module):\n",
    "\n",
    "    def __init__(self):\n",
    "        super(LinearRegressionModel, self).__init__()\n",
    "        self.linear = torch.nn.Linear(1, 1)  \n",
    "\n",
    "    def forward(self, x):\n",
    "        y_pred = self.linear(x)\n",
    "        return y_pred"
   ]
  },
  {
   "cell_type": "code",
   "execution_count": 251,
   "id": "5e13bab6",
   "metadata": {},
   "outputs": [],
   "source": [
    "model = nn.Linear(input_size , output_size)\n"
   ]
  },
  {
   "cell_type": "code",
   "execution_count": 257,
   "id": "35c30abc",
   "metadata": {},
   "outputs": [],
   "source": [
    "learning_rate = 0.1\n",
    "l = nn.MSELoss()\n",
    "optimizer = torch.optim.Adam(model.parameters(), lr =learning_rate )"
   ]
  },
  {
   "cell_type": "code",
   "execution_count": 258,
   "id": "70dfdc93",
   "metadata": {},
   "outputs": [
    {
     "name": "stdout",
     "output_type": "stream",
     "text": [
      "epoch 0, loss 0.0573054775595665\n",
      "epoch 1, loss 0.044387008994817734\n",
      "epoch 2, loss 0.03444264829158783\n",
      "epoch 3, loss 0.026545466855168343\n",
      "epoch 4, loss 0.017356235533952713\n",
      "epoch 5, loss 0.010193501599133015\n",
      "epoch 6, loss 0.006188258528709412\n",
      "epoch 7, loss 0.0036328486166894436\n",
      "epoch 8, loss 0.001247840584255755\n",
      "epoch 9, loss 5.1923874707426876e-05\n",
      "epoch 10, loss 0.0005882915575057268\n",
      "epoch 11, loss 0.0016625776188448071\n",
      "epoch 12, loss 0.002307957736775279\n",
      "epoch 13, loss 0.002949571004137397\n",
      "epoch 14, loss 0.004064391832798719\n",
      "epoch 15, loss 0.005068897735327482\n",
      "epoch 16, loss 0.005329765845090151\n",
      "epoch 17, loss 0.005126986186951399\n",
      "epoch 18, loss 0.0049390243366360664\n",
      "epoch 19, loss 0.00467617716640234\n",
      "epoch 20, loss 0.004018748179078102\n",
      "epoch 21, loss 0.0030893299262970686\n",
      "epoch 22, loss 0.0022938919719308615\n",
      "epoch 23, loss 0.0017227634089067578\n",
      "epoch 24, loss 0.001160512212663889\n",
      "epoch 25, loss 0.0005804915563203394\n",
      "epoch 26, loss 0.00020987525931559503\n",
      "epoch 27, loss 0.00012918110587634146\n",
      "epoch 28, loss 0.0001498334459029138\n",
      "epoch 29, loss 0.00015636322495993227\n",
      "epoch 30, loss 0.0002517380053177476\n",
      "epoch 31, loss 0.00047645517042838037\n",
      "epoch 32, loss 0.0006809643236920238\n",
      "epoch 33, loss 0.0007700762944296002\n",
      "epoch 34, loss 0.000822370988316834\n",
      "epoch 35, loss 0.0008844886324368417\n",
      "epoch 36, loss 0.0008737553143873811\n",
      "epoch 37, loss 0.0007571537862531841\n",
      "epoch 38, loss 0.0006213601445779204\n",
      "epoch 39, loss 0.0005129691562615335\n",
      "epoch 40, loss 0.0003857430419884622\n",
      "epoch 41, loss 0.00023647543275728822\n",
      "epoch 42, loss 0.0001317632559221238\n",
      "epoch 43, loss 8.511899795848876e-05\n",
      "epoch 44, loss 4.990064917365089e-05\n",
      "epoch 45, loss 2.5302697395090945e-05\n",
      "epoch 46, loss 4.466884274734184e-05\n",
      "epoch 47, loss 8.925209112931043e-05\n",
      "epoch 48, loss 0.00011907649604836479\n",
      "epoch 49, loss 0.00014242727775126696\n",
      "epoch 50, loss 0.00017481023678556085\n",
      "epoch 51, loss 0.00019280028936918825\n",
      "epoch 52, loss 0.0001829432148952037\n",
      "epoch 53, loss 0.00016679702093824744\n",
      "epoch 54, loss 0.00015115436690393835\n",
      "epoch 55, loss 0.00012190045526949689\n",
      "epoch 56, loss 8.66940536070615e-05\n",
      "epoch 57, loss 6.332256452878937e-05\n",
      "epoch 58, loss 4.648465619538911e-05\n",
      "epoch 59, loss 2.9317159714992158e-05\n",
      "epoch 60, loss 2.2242793420446105e-05\n",
      "epoch 61, loss 2.6852792871068232e-05\n",
      "epoch 62, loss 3.164033842040226e-05\n",
      "epoch 63, loss 3.6651788832386956e-05\n",
      "epoch 64, loss 4.6655568439746276e-05\n",
      "epoch 65, loss 5.4536230891244486e-05\n",
      "epoch 66, loss 5.59249529032968e-05\n",
      "epoch 67, loss 5.633528053294867e-05\n",
      "epoch 68, loss 5.541169230127707e-05\n",
      "epoch 69, loss 4.919127241009846e-05\n",
      "epoch 70, loss 4.17643241235055e-05\n",
      "epoch 71, loss 3.642675801529549e-05\n",
      "epoch 72, loss 3.040456067537889e-05\n",
      "epoch 73, loss 2.485441837052349e-05\n",
      "epoch 74, loss 2.2982918380876072e-05\n",
      "epoch 75, loss 2.2635942514170893e-05\n",
      "epoch 76, loss 2.2454218196799047e-05\n",
      "epoch 77, loss 2.432589462841861e-05\n",
      "epoch 78, loss 2.691597183002159e-05\n",
      "epoch 79, loss 2.8160733563709073e-05\n",
      "epoch 80, loss 2.9281598472152837e-05\n",
      "epoch 81, loss 3.018848474312108e-05\n",
      "epoch 82, loss 2.9432976589305326e-05\n",
      "epoch 83, loss 2.80884160019923e-05\n",
      "epoch 84, loss 2.6938841983792372e-05\n",
      "epoch 85, loss 2.5152074158540927e-05\n",
      "epoch 86, loss 2.343111736990977e-05\n",
      "epoch 87, loss 2.260033943457529e-05\n",
      "epoch 88, loss 2.1937888959655538e-05\n",
      "epoch 89, loss 2.1569410819211043e-05\n",
      "epoch 90, loss 2.197683534177486e-05\n",
      "epoch 91, loss 2.244386814709287e-05\n",
      "epoch 92, loss 2.2792364688939415e-05\n",
      "epoch 93, loss 2.3353853976004757e-05\n",
      "epoch 94, loss 2.3639997380087152e-05\n",
      "epoch 95, loss 2.353843410674017e-05\n",
      "epoch 96, loss 2.3436952687916346e-05\n",
      "epoch 97, loss 2.3123833670979366e-05\n",
      "epoch 98, loss 2.2604308469453827e-05\n",
      "epoch 99, loss 2.2250160327530466e-05\n",
      "epoch 100, loss 2.1937983547104523e-05\n",
      "epoch 101, loss 2.1648924303008243e-05\n",
      "epoch 102, loss 2.160956137231551e-05\n",
      "epoch 103, loss 2.1655831005773507e-05\n",
      "epoch 104, loss 2.171008600271307e-05\n",
      "epoch 105, loss 2.1884114175918512e-05\n",
      "epoch 106, loss 2.201706411142368e-05\n",
      "epoch 107, loss 2.2058567992644385e-05\n",
      "epoch 108, loss 2.2105603420641273e-05\n",
      "epoch 109, loss 2.2063713913667016e-05\n",
      "epoch 110, loss 2.1948306311969645e-05\n",
      "epoch 111, loss 2.1859759726794437e-05\n",
      "epoch 112, loss 2.1744393961853348e-05\n",
      "epoch 113, loss 2.1637937607010826e-05\n",
      "epoch 114, loss 2.1601181288133375e-05\n",
      "epoch 115, loss 2.157488233933691e-05\n",
      "epoch 116, loss 2.157810376957059e-05\n",
      "epoch 117, loss 2.162488453905098e-05\n",
      "epoch 118, loss 2.1654741431120783e-05\n",
      "epoch 119, loss 2.1684209059458226e-05\n",
      "epoch 120, loss 2.171222513425164e-05\n",
      "epoch 121, loss 2.1703621314372867e-05\n",
      "epoch 122, loss 2.1687937987735495e-05\n",
      "epoch 123, loss 2.1665853637387045e-05\n",
      "epoch 124, loss 2.1626487068715505e-05\n",
      "epoch 125, loss 2.1600504624075256e-05\n",
      "epoch 126, loss 2.1581410692306235e-05\n",
      "epoch 127, loss 2.1565476345131174e-05\n",
      "epoch 128, loss 2.1568866941379383e-05\n",
      "epoch 129, loss 2.1575429855147377e-05\n",
      "epoch 130, loss 2.1583242414635606e-05\n",
      "epoch 131, loss 2.1597214072244242e-05\n",
      "epoch 132, loss 2.160229632863775e-05\n",
      "epoch 133, loss 2.160349140467588e-05\n",
      "epoch 134, loss 2.1602505512419157e-05\n",
      "epoch 135, loss 2.1593112251139246e-05\n",
      "epoch 136, loss 2.158474671887234e-05\n",
      "epoch 137, loss 2.1576881408691406e-05\n",
      "epoch 138, loss 2.1568441297858953e-05\n",
      "epoch 139, loss 2.156602931790985e-05\n",
      "epoch 140, loss 2.156524351448752e-05\n",
      "epoch 141, loss 2.1566133000305854e-05\n",
      "epoch 142, loss 2.1570371245616116e-05\n",
      "epoch 143, loss 2.1572739569819532e-05\n",
      "epoch 144, loss 2.1574915081146173e-05\n",
      "epoch 145, loss 2.157616472686641e-05\n",
      "epoch 146, loss 2.157442031602841e-05\n",
      "epoch 147, loss 2.1572795958491042e-05\n",
      "epoch 148, loss 2.1570103854173794e-05\n",
      "epoch 149, loss 2.1567149815382436e-05\n",
      "epoch 150, loss 2.156565824407153e-05\n",
      "epoch 151, loss 2.156432492483873e-05\n",
      "epoch 152, loss 2.1564312191912904e-05\n",
      "epoch 153, loss 2.1565190763794817e-05\n",
      "epoch 154, loss 2.156574191758409e-05\n",
      "epoch 155, loss 2.1566866053035483e-05\n",
      "epoch 156, loss 2.156746450054925e-05\n",
      "epoch 157, loss 2.1567429939750582e-05\n",
      "epoch 158, loss 2.1567235307884403e-05\n",
      "epoch 159, loss 2.1566358554991893e-05\n",
      "epoch 160, loss 2.1565534552792087e-05\n",
      "epoch 161, loss 2.1564907001447864e-05\n",
      "epoch 162, loss 2.156426853616722e-05\n",
      "epoch 163, loss 2.1564195776591077e-05\n",
      "epoch 164, loss 2.1564252165262587e-05\n",
      "epoch 165, loss 2.156443770218175e-05\n",
      "epoch 166, loss 2.156482878490351e-05\n",
      "epoch 167, loss 2.1564985217992216e-05\n",
      "epoch 168, loss 2.156512528017629e-05\n",
      "epoch 169, loss 2.156510527129285e-05\n",
      "epoch 170, loss 2.15648742596386e-05\n",
      "epoch 171, loss 2.1564712369581684e-05\n",
      "epoch 172, loss 2.1564384951489046e-05\n",
      "epoch 173, loss 2.1564173948718235e-05\n",
      "epoch 174, loss 2.156413029297255e-05\n",
      "epoch 175, loss 2.156404843844939e-05\n",
      "epoch 176, loss 2.1564183043665253e-05\n",
      "epoch 177, loss 2.156431582989171e-05\n",
      "epoch 178, loss 2.15644122363301e-05\n",
      "epoch 179, loss 2.1564415874308906e-05\n",
      "epoch 180, loss 2.1564383132499643e-05\n",
      "epoch 181, loss 2.1564370399573818e-05\n",
      "epoch 182, loss 2.1564257622230798e-05\n",
      "epoch 183, loss 2.15641557588242e-05\n",
      "epoch 184, loss 2.156416121579241e-05\n",
      "epoch 185, loss 2.156408481823746e-05\n",
      "epoch 186, loss 2.1564117560046725e-05\n",
      "epoch 187, loss 2.156411574105732e-05\n",
      "epoch 188, loss 2.15641557588242e-05\n",
      "epoch 189, loss 2.15641048271209e-05\n",
      "epoch 190, loss 2.1564250346273184e-05\n",
      "epoch 191, loss 2.1564164853771217e-05\n",
      "epoch 192, loss 2.1564179405686446e-05\n",
      "epoch 193, loss 2.156415030185599e-05\n",
      "epoch 194, loss 2.156412483600434e-05\n",
      "epoch 195, loss 2.1564055714407004e-05\n",
      "epoch 196, loss 2.1564092094195075e-05\n",
      "epoch 197, loss 2.1564057533396408e-05\n",
      "epoch 198, loss 2.1564075723290443e-05\n",
      "epoch 199, loss 2.1564050257438794e-05\n"
     ]
    }
   ],
   "source": [
    "num_epochs = 200\n",
    "for epoch in range(num_epochs): \n",
    "    y_pred = model(X_train.requires_grad_())\n",
    "    loss= l(y_pred, y_train)\n",
    "    loss.backward()  \n",
    "    optimizer.step()\n",
    "    optimizer.zero_grad() \n",
    "    print('epoch {}, loss {}'.format(epoch, loss.item()))"
   ]
  },
  {
   "cell_type": "code",
   "execution_count": 259,
   "id": "d6e890cd",
   "metadata": {},
   "outputs": [
    {
     "name": "stdout",
     "output_type": "stream",
     "text": [
      "[[7.7552733e-04]\n",
      " [8.3979338e-02]\n",
      " [1.6718315e-01]\n",
      " [2.5038695e-01]\n",
      " [3.3359075e-01]\n",
      " [4.1679454e-01]\n",
      " [4.9999836e-01]\n",
      " [5.8320212e-01]\n",
      " [6.6640598e-01]\n",
      " [7.4960977e-01]\n",
      " [8.3281356e-01]\n",
      " [9.1601741e-01]\n",
      " [9.9922121e-01]]\n"
     ]
    }
   ],
   "source": [
    "predicted = model(X_train).detach().numpy()\n",
    "print(predicted)"
   ]
  },
  {
   "cell_type": "code",
   "execution_count": 260,
   "id": "3225e65b",
   "metadata": {},
   "outputs": [
    {
     "data": {
      "image/png": "[encoded data removed]",
      "text/plain": [
       "<Figure size 432x288 with 1 Axes>"
      ]
     },
     "metadata": {
      "needs_background": "light"
     },
     "output_type": "display_data"
    }
   ],
   "source": [
    "plt.scatter(X_train.detach().numpy()[:] , y_train.detach().numpy()[:])\n",
    "plt.plot(X_train.detach().numpy()[:100] , predicted[:100] , \"red\")\n",
    "plt.xlabel(\"MIN\")\n",
    "plt.ylabel(\"BAT\")\n",
    "plt.show()"
   ]
  },
  {
   "cell_type": "code",
   "execution_count": 261,
   "id": "f8c831f8",
   "metadata": {},
   "outputs": [
    {
     "data": {
      "text/plain": [
       "[<matplotlib.lines.Line2D at 0x7fe100d42b50>,\n",
       " <matplotlib.lines.Line2D at 0x7fe100d42730>]"
      ]
     },
     "execution_count": 261,
     "metadata": {},
     "output_type": "execute_result"
    },
    {
     "data": {
      "image/png": "[encoded data removed]",
      "text/plain": [
       "<Figure size 432x288 with 1 Axes>"
      ]
     },
     "metadata": {
      "needs_background": "light"
     },
     "output_type": "display_data"
    }
   ],
   "source": [
    "plt.plot(X_train.detach().numpy(), y_train.detach().numpy() , '-*',X_train.detach().numpy(), model(X_train).detach().numpy(),'-.')"
   ]
  },
  {
   "cell_type": "code",
   "execution_count": null,
   "id": "bf6da6f8",
   "metadata": {},
   "outputs": [],
   "source": []
  }
 ],
 "metadata": {
  "kernelspec": {
   "display_name": "Python 3 (ipykernel)",
   "language": "python",
   "name": "python3"
  },
  "language_info": {
   "codemirror_mode": {
    "name": "ipython",
    "version": 3
   },
   "file_extension": ".py",
   "mimetype": "text/x-python",
   "name": "python",
   "nbconvert_exporter": "python",
   "pygments_lexer": "ipython3",
   "version": "3.9.7"
  }
 },
 "nbformat": 4,
 "nbformat_minor": 5
}
