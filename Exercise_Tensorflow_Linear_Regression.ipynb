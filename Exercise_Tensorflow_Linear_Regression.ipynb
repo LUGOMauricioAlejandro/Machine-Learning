{
 "cells": [
  {
   "cell_type": "markdown",
   "id": "5e7abd5d",
   "metadata": {},
   "source": [
    "$\\huge{Modelo \\ simple \\ con \\ Tensorflow}$"
   ]
  },
  {
   "cell_type": "code",
   "execution_count": 195,
   "id": "1b41f84b",
   "metadata": {},
   "outputs": [
    {
     "name": "stdout",
     "output_type": "stream",
     "text": [
      "    MIN  BAT\n",
      "0     0    5\n",
      "1     4   10\n",
      "2     8   14\n",
      "3    12   19\n",
      "4    16   24\n",
      "5    20   28\n",
      "6    24   33\n",
      "7    28   38\n",
      "8    32   42\n",
      "9    36   47\n",
      "10   40   52\n",
      "11   44   56\n",
      "12   48   61\n",
      "Index(['MIN', 'BAT'], dtype='object')\n"
     ]
    }
   ],
   "source": [
    "import pandas as pd\n",
    "import keras \n",
    "import keras.backend as kb\n",
    "import tensorflow as tf\n",
    "import matplotlib.pyplot as plt\n",
    "\n",
    "print(df)\n",
    "print(df.columns)\n"
   ]
  },
  {
   "cell_type": "markdown",
   "id": "55325cf9",
   "metadata": {},
   "source": [
    "$\\huge{Variables \\ del \\ Modelo}$"
   ]
  },
  {
   "cell_type": "code",
   "execution_count": 196,
   "id": "63ffa007",
   "metadata": {},
   "outputs": [],
   "source": [
    "x1 = df['MIN']\n",
    "y1 = df['BAT']"
   ]
  },
  {
   "cell_type": "markdown",
   "id": "3d412133",
   "metadata": {},
   "source": [
    "$\\huge{Regresión \\ Lineal \\ Modelo \\ Red \\ Neuronal}$"
   ]
  },
  {
   "cell_type": "code",
   "execution_count": 197,
   "id": "14f9f8b0",
   "metadata": {},
   "outputs": [],
   "source": [
    "model = keras.Sequential([keras.layers.Dense(32, activation=tf.nn.relu, input_shape=[1]),\n",
    "                          keras.layers.Dense(32, activation=tf.nn.relu),\n",
    "                          keras.layers.Dense(32, activation=tf.nn.relu),\n",
    "                          keras.layers.Dense(1)                             #capa de salida\n",
    "                          ])\n",
    "optimizer = tf.keras.optimizers.Adam(learning_rate=0.0015)\n",
    "\n",
    "model.compile(loss='mean_absolute_error',  #función de pérdida error absoluto\n",
    "              optimizer = optimizer,\n",
    "              metrics=['mean_absolute_error', 'mean_squared_error'])"
   ]
  },
  {
   "cell_type": "markdown",
   "id": "3b3dabd4",
   "metadata": {},
   "source": [
    "$\\huge{Entrenamiento \\ del \\ Modelo}$"
   ]
  },
  {
   "cell_type": "code",
   "execution_count": 200,
   "id": "6814159b",
   "metadata": {},
   "outputs": [
    {
     "name": "stdout",
     "output_type": "stream",
     "text": [
      "Epoch 1/100\n",
      "1/1 [==============================] - 0s 22ms/step - loss: 0.2682 - mean_absolute_error: 0.2682 - mean_squared_error: 0.1155\n",
      "Epoch 2/100\n",
      "1/1 [==============================] - 0s 6ms/step - loss: 0.2553 - mean_absolute_error: 0.2553 - mean_squared_error: 0.1117\n",
      "Epoch 3/100\n",
      "1/1 [==============================] - 0s 18ms/step - loss: 0.2725 - mean_absolute_error: 0.2725 - mean_squared_error: 0.1263\n",
      "Epoch 4/100\n",
      "1/1 [==============================] - 0s 5ms/step - loss: 0.2318 - mean_absolute_error: 0.2318 - mean_squared_error: 0.0872\n",
      "Epoch 5/100\n",
      "1/1 [==============================] - 0s 5ms/step - loss: 0.2702 - mean_absolute_error: 0.2702 - mean_squared_error: 0.1192\n",
      "Epoch 6/100\n",
      "1/1 [==============================] - 0s 10ms/step - loss: 0.2628 - mean_absolute_error: 0.2628 - mean_squared_error: 0.1107\n",
      "Epoch 7/100\n",
      "1/1 [==============================] - 0s 3ms/step - loss: 0.2312 - mean_absolute_error: 0.2312 - mean_squared_error: 0.0895\n",
      "Epoch 8/100\n",
      "1/1 [==============================] - 0s 4ms/step - loss: 0.2777 - mean_absolute_error: 0.2777 - mean_squared_error: 0.1291\n",
      "Epoch 9/100\n",
      "1/1 [==============================] - 0s 9ms/step - loss: 0.2376 - mean_absolute_error: 0.2376 - mean_squared_error: 0.0973\n",
      "Epoch 10/100\n",
      "1/1 [==============================] - 0s 20ms/step - loss: 0.2468 - mean_absolute_error: 0.2468 - mean_squared_error: 0.0954\n",
      "Epoch 11/100\n",
      "1/1 [==============================] - 0s 27ms/step - loss: 0.2494 - mean_absolute_error: 0.2494 - mean_squared_error: 0.0972\n",
      "Epoch 12/100\n",
      "1/1 [==============================] - 0s 16ms/step - loss: 0.2300 - mean_absolute_error: 0.2300 - mean_squared_error: 0.0894\n",
      "Epoch 13/100\n",
      "1/1 [==============================] - 0s 16ms/step - loss: 0.2580 - mean_absolute_error: 0.2580 - mean_squared_error: 0.1124\n",
      "Epoch 14/100\n",
      "1/1 [==============================] - 0s 25ms/step - loss: 0.2317 - mean_absolute_error: 0.2317 - mean_squared_error: 0.0866\n",
      "Epoch 15/100\n",
      "1/1 [==============================] - 0s 39ms/step - loss: 0.2541 - mean_absolute_error: 0.2541 - mean_squared_error: 0.0959\n",
      "Epoch 16/100\n",
      "1/1 [==============================] - 0s 25ms/step - loss: 0.2353 - mean_absolute_error: 0.2353 - mean_squared_error: 0.0867\n",
      "Epoch 17/100\n",
      "1/1 [==============================] - 0s 10ms/step - loss: 0.2313 - mean_absolute_error: 0.2313 - mean_squared_error: 0.0963\n",
      "Epoch 18/100\n",
      "1/1 [==============================] - 0s 23ms/step - loss: 0.2310 - mean_absolute_error: 0.2310 - mean_squared_error: 0.0869\n",
      "Epoch 19/100\n",
      "1/1 [==============================] - 0s 31ms/step - loss: 0.2314 - mean_absolute_error: 0.2314 - mean_squared_error: 0.0862\n",
      "Epoch 20/100\n",
      "1/1 [==============================] - 0s 24ms/step - loss: 0.2298 - mean_absolute_error: 0.2298 - mean_squared_error: 0.0864\n",
      "Epoch 21/100\n",
      "1/1 [==============================] - 0s 49ms/step - loss: 0.2294 - mean_absolute_error: 0.2294 - mean_squared_error: 0.0871\n",
      "Epoch 22/100\n",
      "1/1 [==============================] - 0s 14ms/step - loss: 0.2308 - mean_absolute_error: 0.2308 - mean_squared_error: 0.0878\n",
      "Epoch 23/100\n",
      "1/1 [==============================] - 0s 16ms/step - loss: 0.2309 - mean_absolute_error: 0.2309 - mean_squared_error: 0.0875\n",
      "Epoch 24/100\n",
      "1/1 [==============================] - 0s 15ms/step - loss: 0.2296 - mean_absolute_error: 0.2296 - mean_squared_error: 0.0872\n",
      "Epoch 25/100\n",
      "1/1 [==============================] - 0s 8ms/step - loss: 0.2360 - mean_absolute_error: 0.2360 - mean_squared_error: 0.0890\n",
      "Epoch 26/100\n",
      "1/1 [==============================] - 0s 6ms/step - loss: 0.2296 - mean_absolute_error: 0.2296 - mean_squared_error: 0.0915\n",
      "Epoch 27/100\n",
      "1/1 [==============================] - 0s 15ms/step - loss: 0.2294 - mean_absolute_error: 0.2294 - mean_squared_error: 0.0944\n",
      "Epoch 28/100\n",
      "1/1 [==============================] - 0s 13ms/step - loss: 0.2306 - mean_absolute_error: 0.2306 - mean_squared_error: 0.0857\n",
      "Epoch 29/100\n",
      "1/1 [==============================] - 0s 17ms/step - loss: 0.2338 - mean_absolute_error: 0.2338 - mean_squared_error: 0.0854\n",
      "Epoch 30/100\n",
      "1/1 [==============================] - 0s 13ms/step - loss: 0.2348 - mean_absolute_error: 0.2348 - mean_squared_error: 0.0855\n",
      "Epoch 31/100\n",
      "1/1 [==============================] - 0s 32ms/step - loss: 0.2336 - mean_absolute_error: 0.2336 - mean_squared_error: 0.0856\n",
      "Epoch 32/100\n",
      "1/1 [==============================] - 0s 38ms/step - loss: 0.2304 - mean_absolute_error: 0.2304 - mean_squared_error: 0.0909\n",
      "Epoch 33/100\n",
      "1/1 [==============================] - 0s 9ms/step - loss: 0.2474 - mean_absolute_error: 0.2474 - mean_squared_error: 0.1104\n",
      "Epoch 34/100\n",
      "1/1 [==============================] - 0s 28ms/step - loss: 0.2297 - mean_absolute_error: 0.2297 - mean_squared_error: 0.0871\n",
      "Epoch 35/100\n",
      "1/1 [==============================] - 0s 18ms/step - loss: 0.2315 - mean_absolute_error: 0.2315 - mean_squared_error: 0.0851\n",
      "Epoch 36/100\n",
      "1/1 [==============================] - 0s 9ms/step - loss: 0.2363 - mean_absolute_error: 0.2363 - mean_squared_error: 0.0875\n",
      "Epoch 37/100\n",
      "1/1 [==============================] - 0s 21ms/step - loss: 0.2277 - mean_absolute_error: 0.2277 - mean_squared_error: 0.0916\n",
      "Epoch 38/100\n",
      "1/1 [==============================] - 0s 16ms/step - loss: 0.2355 - mean_absolute_error: 0.2355 - mean_squared_error: 0.0971\n",
      "Epoch 39/100\n",
      "1/1 [==============================] - 0s 16ms/step - loss: 0.2538 - mean_absolute_error: 0.2538 - mean_squared_error: 0.1025\n",
      "Epoch 40/100\n",
      "1/1 [==============================] - 0s 8ms/step - loss: 0.2666 - mean_absolute_error: 0.2666 - mean_squared_error: 0.1193\n",
      "Epoch 41/100\n",
      "1/1 [==============================] - 0s 4ms/step - loss: 0.2392 - mean_absolute_error: 0.2392 - mean_squared_error: 0.0907\n",
      "Epoch 42/100\n",
      "1/1 [==============================] - 0s 6ms/step - loss: 0.2696 - mean_absolute_error: 0.2696 - mean_squared_error: 0.1229\n",
      "Epoch 43/100\n",
      "1/1 [==============================] - 0s 15ms/step - loss: 0.2590 - mean_absolute_error: 0.2590 - mean_squared_error: 0.1133\n",
      "Epoch 44/100\n",
      "1/1 [==============================] - 0s 4ms/step - loss: 0.2502 - mean_absolute_error: 0.2502 - mean_squared_error: 0.0991\n",
      "Epoch 45/100\n",
      "1/1 [==============================] - 0s 4ms/step - loss: 0.2735 - mean_absolute_error: 0.2735 - mean_squared_error: 0.1307\n",
      "Epoch 46/100\n",
      "1/1 [==============================] - 0s 16ms/step - loss: 0.2252 - mean_absolute_error: 0.2252 - mean_squared_error: 0.0850\n",
      "Epoch 47/100\n",
      "1/1 [==============================] - 0s 5ms/step - loss: 0.2756 - mean_absolute_error: 0.2756 - mean_squared_error: 0.1313\n",
      "Epoch 48/100\n",
      "1/1 [==============================] - 0s 5ms/step - loss: 0.2268 - mean_absolute_error: 0.2268 - mean_squared_error: 0.0840\n",
      "Epoch 49/100\n",
      "1/1 [==============================] - 0s 6ms/step - loss: 0.2548 - mean_absolute_error: 0.2548 - mean_squared_error: 0.1008\n",
      "Epoch 50/100\n",
      "1/1 [==============================] - 0s 4ms/step - loss: 0.2490 - mean_absolute_error: 0.2490 - mean_squared_error: 0.0947\n",
      "Epoch 51/100\n",
      "1/1 [==============================] - 0s 16ms/step - loss: 0.2256 - mean_absolute_error: 0.2256 - mean_squared_error: 0.0893\n",
      "Epoch 52/100\n",
      "1/1 [==============================] - 0s 6ms/step - loss: 0.3028 - mean_absolute_error: 0.3028 - mean_squared_error: 0.1574\n",
      "Epoch 53/100\n",
      "1/1 [==============================] - 0s 11ms/step - loss: 0.2429 - mean_absolute_error: 0.2429 - mean_squared_error: 0.0900\n",
      "Epoch 54/100\n",
      "1/1 [==============================] - 0s 10ms/step - loss: 0.2884 - mean_absolute_error: 0.2884 - mean_squared_error: 0.1427\n",
      "Epoch 55/100\n",
      "1/1 [==============================] - 0s 6ms/step - loss: 0.2398 - mean_absolute_error: 0.2398 - mean_squared_error: 0.0884\n",
      "Epoch 56/100\n",
      "1/1 [==============================] - 0s 47ms/step - loss: 0.2858 - mean_absolute_error: 0.2858 - mean_squared_error: 0.1400\n",
      "Epoch 57/100\n",
      "1/1 [==============================] - 0s 6ms/step - loss: 0.2437 - mean_absolute_error: 0.2437 - mean_squared_error: 0.1044\n",
      "Epoch 58/100\n",
      "1/1 [==============================] - 0s 19ms/step - loss: 0.2696 - mean_absolute_error: 0.2696 - mean_squared_error: 0.1216\n",
      "Epoch 59/100\n",
      "1/1 [==============================] - 0s 10ms/step - loss: 0.3521 - mean_absolute_error: 0.3521 - mean_squared_error: 0.2052\n",
      "Epoch 60/100\n"
     ]
    },
    {
     "name": "stdout",
     "output_type": "stream",
     "text": [
      "1/1 [==============================] - 0s 4ms/step - loss: 0.2437 - mean_absolute_error: 0.2437 - mean_squared_error: 0.0907\n",
      "Epoch 61/100\n",
      "1/1 [==============================] - 0s 23ms/step - loss: 0.3259 - mean_absolute_error: 0.3259 - mean_squared_error: 0.1728\n",
      "Epoch 62/100\n",
      "1/1 [==============================] - 0s 4ms/step - loss: 0.2395 - mean_absolute_error: 0.2395 - mean_squared_error: 0.1010\n",
      "Epoch 63/100\n",
      "1/1 [==============================] - 0s 6ms/step - loss: 0.2700 - mean_absolute_error: 0.2700 - mean_squared_error: 0.1211\n",
      "Epoch 64/100\n",
      "1/1 [==============================] - 0s 6ms/step - loss: 0.3356 - mean_absolute_error: 0.3356 - mean_squared_error: 0.1871\n",
      "Epoch 65/100\n",
      "1/1 [==============================] - 0s 5ms/step - loss: 0.2330 - mean_absolute_error: 0.2330 - mean_squared_error: 0.0848\n",
      "Epoch 66/100\n",
      "1/1 [==============================] - 0s 10ms/step - loss: 0.3650 - mean_absolute_error: 0.3650 - mean_squared_error: 0.2025\n",
      "Epoch 67/100\n",
      "1/1 [==============================] - 0s 5ms/step - loss: 0.2642 - mean_absolute_error: 0.2642 - mean_squared_error: 0.1211\n",
      "Epoch 68/100\n",
      "1/1 [==============================] - 0s 6ms/step - loss: 0.2662 - mean_absolute_error: 0.2662 - mean_squared_error: 0.1176\n",
      "Epoch 69/100\n",
      "1/1 [==============================] - 0s 5ms/step - loss: 0.3733 - mean_absolute_error: 0.3733 - mean_squared_error: 0.2301\n",
      "Epoch 70/100\n",
      "1/1 [==============================] - 0s 10ms/step - loss: 0.2638 - mean_absolute_error: 0.2638 - mean_squared_error: 0.1138\n",
      "Epoch 71/100\n",
      "1/1 [==============================] - 0s 17ms/step - loss: 0.2467 - mean_absolute_error: 0.2467 - mean_squared_error: 0.1070\n",
      "Epoch 72/100\n",
      "1/1 [==============================] - 0s 12ms/step - loss: 0.2670 - mean_absolute_error: 0.2670 - mean_squared_error: 0.1264\n",
      "Epoch 73/100\n",
      "1/1 [==============================] - 0s 4ms/step - loss: 0.2271 - mean_absolute_error: 0.2271 - mean_squared_error: 0.0824\n",
      "Epoch 74/100\n",
      "1/1 [==============================] - 0s 10ms/step - loss: 0.2563 - mean_absolute_error: 0.2563 - mean_squared_error: 0.1017\n",
      "Epoch 75/100\n",
      "1/1 [==============================] - 0s 21ms/step - loss: 0.2483 - mean_absolute_error: 0.2483 - mean_squared_error: 0.0939\n",
      "Epoch 76/100\n",
      "1/1 [==============================] - 0s 10ms/step - loss: 0.2247 - mean_absolute_error: 0.2247 - mean_squared_error: 0.0870\n",
      "Epoch 77/100\n",
      "1/1 [==============================] - 0s 11ms/step - loss: 0.2908 - mean_absolute_error: 0.2908 - mean_squared_error: 0.1482\n",
      "Epoch 78/100\n",
      "1/1 [==============================] - 0s 4ms/step - loss: 0.2235 - mean_absolute_error: 0.2235 - mean_squared_error: 0.0874\n",
      "Epoch 79/100\n",
      "1/1 [==============================] - 0s 8ms/step - loss: 0.2362 - mean_absolute_error: 0.2362 - mean_squared_error: 0.0860\n",
      "Epoch 80/100\n",
      "1/1 [==============================] - 0s 5ms/step - loss: 0.2294 - mean_absolute_error: 0.2294 - mean_squared_error: 0.0833\n",
      "Epoch 81/100\n",
      "1/1 [==============================] - 0s 7ms/step - loss: 0.2364 - mean_absolute_error: 0.2364 - mean_squared_error: 0.0995\n",
      "Epoch 82/100\n",
      "1/1 [==============================] - 0s 6ms/step - loss: 0.2219 - mean_absolute_error: 0.2219 - mean_squared_error: 0.0838\n",
      "Epoch 83/100\n",
      "1/1 [==============================] - 0s 7ms/step - loss: 0.2236 - mean_absolute_error: 0.2236 - mean_squared_error: 0.0819\n",
      "Epoch 84/100\n",
      "1/1 [==============================] - 0s 6ms/step - loss: 0.2242 - mean_absolute_error: 0.2242 - mean_squared_error: 0.0826\n",
      "Epoch 85/100\n",
      "1/1 [==============================] - 0s 6ms/step - loss: 0.2302 - mean_absolute_error: 0.2302 - mean_squared_error: 0.0940\n",
      "Epoch 86/100\n",
      "1/1 [==============================] - 0s 6ms/step - loss: 0.2225 - mean_absolute_error: 0.2225 - mean_squared_error: 0.0847\n",
      "Epoch 87/100\n",
      "1/1 [==============================] - 0s 10ms/step - loss: 0.2236 - mean_absolute_error: 0.2236 - mean_squared_error: 0.0826\n",
      "Epoch 88/100\n",
      "1/1 [==============================] - 0s 26ms/step - loss: 0.2215 - mean_absolute_error: 0.2215 - mean_squared_error: 0.0860\n",
      "Epoch 89/100\n",
      "1/1 [==============================] - 0s 5ms/step - loss: 0.2342 - mean_absolute_error: 0.2342 - mean_squared_error: 0.0973\n",
      "Epoch 90/100\n",
      "1/1 [==============================] - 0s 19ms/step - loss: 0.2342 - mean_absolute_error: 0.2342 - mean_squared_error: 0.0855\n",
      "Epoch 91/100\n",
      "1/1 [==============================] - 0s 5ms/step - loss: 0.2396 - mean_absolute_error: 0.2396 - mean_squared_error: 0.0885\n",
      "Epoch 92/100\n",
      "1/1 [==============================] - 0s 5ms/step - loss: 0.2227 - mean_absolute_error: 0.2227 - mean_squared_error: 0.0836\n",
      "Epoch 93/100\n",
      "1/1 [==============================] - 0s 11ms/step - loss: 0.2579 - mean_absolute_error: 0.2579 - mean_squared_error: 0.1195\n",
      "Epoch 94/100\n",
      "1/1 [==============================] - 0s 5ms/step - loss: 0.2240 - mean_absolute_error: 0.2240 - mean_squared_error: 0.0882\n",
      "Epoch 95/100\n",
      "1/1 [==============================] - 0s 7ms/step - loss: 0.2566 - mean_absolute_error: 0.2566 - mean_squared_error: 0.1033\n",
      "Epoch 96/100\n",
      "1/1 [==============================] - 0s 8ms/step - loss: 0.2659 - mean_absolute_error: 0.2659 - mean_squared_error: 0.1165\n",
      "Epoch 97/100\n",
      "1/1 [==============================] - 0s 13ms/step - loss: 0.2307 - mean_absolute_error: 0.2307 - mean_squared_error: 0.0840\n",
      "Epoch 98/100\n",
      "1/1 [==============================] - 0s 6ms/step - loss: 0.2722 - mean_absolute_error: 0.2722 - mean_squared_error: 0.1280\n",
      "Epoch 99/100\n",
      "1/1 [==============================] - 0s 8ms/step - loss: 0.2707 - mean_absolute_error: 0.2707 - mean_squared_error: 0.1254\n",
      "Epoch 100/100\n",
      "1/1 [==============================] - 0s 11ms/step - loss: 0.2292 - mean_absolute_error: 0.2292 - mean_squared_error: 0.0839\n"
     ]
    },
    {
     "data": {
      "text/plain": [
       "<tensorflow.python.keras.callbacks.History at 0x7fc7006c0040>"
      ]
     },
     "execution_count": 200,
     "metadata": {},
     "output_type": "execute_result"
    }
   ],
   "source": [
    "model.fit(x,y, epochs=100)"
   ]
  },
  {
   "cell_type": "markdown",
   "id": "f7fb4f8e",
   "metadata": {},
   "source": [
    "$\\huge{Predicción \\ del \\ Modelo}$"
   ]
  },
  {
   "cell_type": "code",
   "execution_count": 201,
   "id": "983a0a17",
   "metadata": {},
   "outputs": [
    {
     "data": {
      "text/plain": [
       "array([[61.35666]], dtype=float32)"
      ]
     },
     "execution_count": 201,
     "metadata": {},
     "output_type": "execute_result"
    }
   ],
   "source": [
    "model.predict([48])"
   ]
  },
  {
   "cell_type": "code",
   "execution_count": 202,
   "id": "93392b37",
   "metadata": {},
   "outputs": [
    {
     "name": "stdout",
     "output_type": "stream",
     "text": [
      "[[ 5.000069]\n",
      " [ 9.97804 ]\n",
      " [14.521188]\n",
      " [19.06486 ]\n",
      " [23.60854 ]\n",
      " [28.18706 ]\n",
      " [32.925575]\n",
      " [37.66409 ]\n",
      " [42.402603]\n",
      " [47.141117]\n",
      " [51.879627]\n",
      " [56.618145]\n",
      " [61.35666 ]]\n"
     ]
    }
   ],
   "source": [
    "print( model.predict(x))"
   ]
  },
  {
   "cell_type": "markdown",
   "id": "a99fd640",
   "metadata": {},
   "source": [
    "$\\huge{Análisis \\ Gráfico}$"
   ]
  },
  {
   "cell_type": "code",
   "execution_count": 203,
   "id": "ac86f137",
   "metadata": {},
   "outputs": [
    {
     "data": {
      "text/plain": [
       "[<matplotlib.lines.Line2D at 0x7fc7006f4f10>,\n",
       " <matplotlib.lines.Line2D at 0x7fc7006f4850>]"
      ]
     },
     "execution_count": 203,
     "metadata": {},
     "output_type": "execute_result"
    },
    {
     "data": {
      "image/png": "[encoded data removed]",
      "text/plain": [
       "<Figure size 432x288 with 1 Axes>"
      ]
     },
     "metadata": {
      "needs_background": "light"
     },
     "output_type": "display_data"
    }
   ],
   "source": [
    "plt.plot(x, model.predict(x), '-*', x,y, '-.')"
   ]
  },
  {
   "cell_type": "code",
   "execution_count": null,
   "id": "bd0438fc",
   "metadata": {},
   "outputs": [],
   "source": []
  }
 ],
 "metadata": {
  "kernelspec": {
   "display_name": "Python 3 (ipykernel)",
   "language": "python",
   "name": "python3"
  },
  "language_info": {
   "codemirror_mode": {
    "name": "ipython",
    "version": 3
   },
   "file_extension": ".py",
   "mimetype": "text/x-python",
   "name": "python",
   "nbconvert_exporter": "python",
   "pygments_lexer": "ipython3",
   "version": "3.9.7"
  }
 },
 "nbformat": 4,
 "nbformat_minor": 5
}
