{
  "nbformat": 4,
  "nbformat_minor": 0,
  "metadata": {
    "colab": {
      "name": "Exersise_2_CNN_TF.ipynb",
      "provenance": []
    },
    "kernelspec": {
      "name": "python3",
      "display_name": "Python 3"
    },
    "language_info": {
      "name": "python"
    }
  },
  "cells": [
    {
      "cell_type": "code",
      "execution_count": 90,
      "metadata": {
        "id": "ovsAKcgMyyEj"
      },
      "outputs": [],
      "source": [
        "import tensorflow as tf\n",
        "from tensorflow import keras\n",
        "from tensorflow.keras.layers import Input, Dense\n",
        "from keras.models import Sequential, Model\n"
      ]
    },
    {
      "cell_type": "markdown",
      "source": [
        "## Set de Entrenamiento y Test; además de la carga de los datos"
      ],
      "metadata": {
        "id": "qhn0Qe0-4lrT"
      }
    },
    {
      "cell_type": "code",
      "source": [
        "(x_train, y_train), (x_test, y_test) = keras.datasets.mnist.load_data() #Dataset Escritos a mano (MNIST )"
      ],
      "metadata": {
        "id": "kpUuoYhFzyN2"
      },
      "execution_count": 91,
      "outputs": []
    },
    {
      "cell_type": "markdown",
      "source": [
        "## Red Neuronal Vanilla"
      ],
      "metadata": {
        "id": "R_AG7vs441C_"
      }
    },
    {
      "cell_type": "code",
      "source": [
        "model = tf.keras.models.Sequential([ \n",
        "                                    tf.keras.layers.Flatten(),\n",
        "                                    tf.keras.layers.Dense(128, activation='relu'),\n",
        "                                    tf.keras.layers.Dense(10, activation= 'softmax')\n",
        "                                    ])"
      ],
      "metadata": {
        "id": "UoQj66p-0G_K"
      },
      "execution_count": 103,
      "outputs": []
    },
    {
      "cell_type": "code",
      "source": [
        "inputs = Input(shape=(784,))\n",
        "model(inputs=inputs)\n",
        "\n"
      ],
      "metadata": {
        "colab": {
          "base_uri": "https://localhost:8080/"
        },
        "id": "faFaGlxI7gYH",
        "outputId": "e51d930d-89ec-40f8-b935-5b6ce658e54d"
      },
      "execution_count": 104,
      "outputs": [
        {
          "output_type": "execute_result",
          "data": {
            "text/plain": [
              "<KerasTensor: shape=(None, 10) dtype=float32 (created by layer 'sequential_10')>"
            ]
          },
          "metadata": {},
          "execution_count": 104
        }
      ]
    },
    {
      "cell_type": "markdown",
      "source": [
        "$\\huge{Estructura}$"
      ],
      "metadata": {
        "id": "-jjNtKPJ4ex1"
      }
    },
    {
      "cell_type": "code",
      "source": [
        "model.summary()"
      ],
      "metadata": {
        "colab": {
          "base_uri": "https://localhost:8080/"
        },
        "id": "_oC5YlHD2cJP",
        "outputId": "5e7c2e6d-ee12-4d64-9ef1-28572b88efcc"
      },
      "execution_count": 105,
      "outputs": [
        {
          "output_type": "stream",
          "name": "stdout",
          "text": [
            "Model: \"sequential_10\"\n",
            "_________________________________________________________________\n",
            " Layer (type)                Output Shape              Param #   \n",
            "=================================================================\n",
            " flatten_10 (Flatten)        (None, 784)               0         \n",
            "                                                                 \n",
            " dense_23 (Dense)            (None, 128)               100480    \n",
            "                                                                 \n",
            " dense_24 (Dense)            (None, 10)                1290      \n",
            "                                                                 \n",
            "=================================================================\n",
            "Total params: 101,770\n",
            "Trainable params: 101,770\n",
            "Non-trainable params: 0\n",
            "_________________________________________________________________\n"
          ]
        }
      ]
    },
    {
      "cell_type": "markdown",
      "source": [
        "## Configuración y Entrenamiento"
      ],
      "metadata": {
        "id": "1YjlZpZ14-gB"
      }
    },
    {
      "cell_type": "code",
      "source": [
        "model.compile( optimizer='adam',\n",
        "               loss = 'sparse_categorical_crossentropy',\n",
        "              metrics = ['accuracy'])\n"
      ],
      "metadata": {
        "id": "s8ndx4Re2zuo"
      },
      "execution_count": 106,
      "outputs": []
    },
    {
      "cell_type": "code",
      "source": [
        "model.fit(x_train, y_train, epochs=10) #Entrenamiento del modelos\n",
        "model.evaluate(x_test, y_test)         #Evaluación del modelo"
      ],
      "metadata": {
        "colab": {
          "base_uri": "https://localhost:8080/"
        },
        "id": "QiBUYNSi53UR",
        "outputId": "20e98515-4cea-4d78-cce5-2e0a6b09f83f"
      },
      "execution_count": 107,
      "outputs": [
        {
          "output_type": "stream",
          "name": "stdout",
          "text": [
            "Epoch 1/10\n",
            "WARNING:tensorflow:Model was constructed with shape (None, 784) for input KerasTensor(type_spec=TensorSpec(shape=(None, 784), dtype=tf.float32, name='flatten_10_input'), name='flatten_10_input', description=\"created by layer 'flatten_10_input'\"), but it was called on an input with incompatible shape (32, 28, 28).\n",
            "WARNING:tensorflow:Model was constructed with shape (None, 784) for input KerasTensor(type_spec=TensorSpec(shape=(None, 784), dtype=tf.float32, name='flatten_10_input'), name='flatten_10_input', description=\"created by layer 'flatten_10_input'\"), but it was called on an input with incompatible shape (32, 28, 28).\n",
            "1875/1875 [==============================] - 5s 2ms/step - loss: 2.1559 - accuracy: 0.8637\n",
            "Epoch 2/10\n",
            "1875/1875 [==============================] - 4s 2ms/step - loss: 0.3453 - accuracy: 0.9171\n",
            "Epoch 3/10\n",
            "1875/1875 [==============================] - 5s 3ms/step - loss: 0.2725 - accuracy: 0.9313\n",
            "Epoch 4/10\n",
            "1875/1875 [==============================] - 5s 3ms/step - loss: 0.2415 - accuracy: 0.9394\n",
            "Epoch 5/10\n",
            "1875/1875 [==============================] - 5s 3ms/step - loss: 0.2254 - accuracy: 0.9434\n",
            "Epoch 6/10\n",
            "1875/1875 [==============================] - 5s 2ms/step - loss: 0.2130 - accuracy: 0.9470\n",
            "Epoch 7/10\n",
            "1875/1875 [==============================] - 5s 2ms/step - loss: 0.1982 - accuracy: 0.9501\n",
            "Epoch 8/10\n",
            "1875/1875 [==============================] - 5s 3ms/step - loss: 0.1933 - accuracy: 0.9524\n",
            "Epoch 9/10\n",
            "1875/1875 [==============================] - 5s 3ms/step - loss: 0.1888 - accuracy: 0.9539\n",
            "Epoch 10/10\n",
            "1875/1875 [==============================] - 5s 2ms/step - loss: 0.1795 - accuracy: 0.9573\n",
            "WARNING:tensorflow:Model was constructed with shape (None, 784) for input KerasTensor(type_spec=TensorSpec(shape=(None, 784), dtype=tf.float32, name='flatten_10_input'), name='flatten_10_input', description=\"created by layer 'flatten_10_input'\"), but it was called on an input with incompatible shape (None, 28, 28).\n",
            "313/313 [==============================] - 1s 2ms/step - loss: 0.2783 - accuracy: 0.9436\n"
          ]
        },
        {
          "output_type": "execute_result",
          "data": {
            "text/plain": [
              "[0.278258740901947, 0.9435999989509583]"
            ]
          },
          "metadata": {},
          "execution_count": 107
        }
      ]
    },
    {
      "cell_type": "code",
      "source": [
        "  "
      ],
      "metadata": {
        "id": "-n-onwYK6SJj"
      },
      "execution_count": null,
      "outputs": []
    }
  ]
}